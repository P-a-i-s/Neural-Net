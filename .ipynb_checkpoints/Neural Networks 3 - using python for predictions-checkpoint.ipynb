{
 "cells": [
  {
   "cell_type": "code",
   "execution_count": 254,
   "metadata": {
    "collapsed": true
   },
   "outputs": [],
   "source": [
    "from matplotlib import pyplot as plt\n",
    "import numpy as np\n",
    "%matplotlib inline\n",
    "#link: https://www.youtube.com/watch?v=LSr96IZQknc"
   ]
  },
  {
   "cell_type": "code",
   "execution_count": 255,
   "metadata": {
    "collapsed": true
   },
   "outputs": [],
   "source": [
    "#each point is length, width, type (0,1)\n",
    "\n",
    "data = [[3,  1.5,  1],\n",
    "        [2,  1,    0],\n",
    "        [4,  1.5,  1],\n",
    "        [3,  1,    0],\n",
    "        [3.5, .5,  1],\n",
    "        [2,   .5,  0],\n",
    "        [5.5,  1,  1],\n",
    "        [1,    1,  0]]\n",
    "\n",
    "mystery_flower = [4.5, 1]"
   ]
  },
  {
   "cell_type": "code",
   "execution_count": 256,
   "metadata": {},
   "outputs": [
    {
     "data": {
      "text/plain": [
       "1"
      ]
     },
     "execution_count": 256,
     "metadata": {},
     "output_type": "execute_result"
    }
   ],
   "source": [
    "data[0][2]"
   ]
  },
  {
   "cell_type": "code",
   "execution_count": 257,
   "metadata": {
    "collapsed": true
   },
   "outputs": [],
   "source": [
    "#network\n",
    "\n",
    "#   O   output --> flower type\n",
    "#  / \\  weights and bias -> w1,w2,b\n",
    "# O   O input --> length, width"
   ]
  },
  {
   "cell_type": "code",
   "execution_count": 258,
   "metadata": {
    "collapsed": true
   },
   "outputs": [],
   "source": [
    "# since connections in our neural networks start off random, we use randn to generate random numbers (zero mean and one variance)\n",
    "\n",
    "w1 = np.random.randn()\n",
    "w2 = np.random.randn()\n",
    "b = np.random.randn()"
   ]
  },
  {
   "cell_type": "code",
   "execution_count": 259,
   "metadata": {},
   "outputs": [
    {
     "data": {
      "text/plain": [
       "0.8292842061954724"
      ]
     },
     "execution_count": 259,
     "metadata": {},
     "output_type": "execute_result"
    }
   ],
   "source": [
    "w1"
   ]
  },
  {
   "cell_type": "code",
   "execution_count": 260,
   "metadata": {
    "collapsed": true
   },
   "outputs": [],
   "source": [
    "#Since its a 0,1 outcome for the flower problem we can use sigmoid\n",
    "\n",
    "def sigmoid(x):\n",
    "    return 1/(1 + np.exp(-x))\n",
    "\n",
    "#we define the derivitive of sigmoid and name it as sigmoid_p or sigmoid prime as we shall call it. \n",
    "def sigmoid_p(x):\n",
    "    return sigmoid(x) * (1-sigmoid(x))"
   ]
  },
  {
   "cell_type": "code",
   "execution_count": 261,
   "metadata": {
    "collapsed": true
   },
   "outputs": [],
   "source": [
    "# domain of our function which we will use to plugin values\n",
    "T = np.linspace(-5,5,10)\n",
    "Y = sigmoid(T)"
   ]
  },
  {
   "cell_type": "code",
   "execution_count": 262,
   "metadata": {},
   "outputs": [
    {
     "data": {
      "text/plain": [
       "array([ 0.00669285,  0.02005754,  0.0585369 ,  0.1588691 ,  0.36457644,\n",
       "        0.63542356,  0.8411309 ,  0.9414631 ,  0.97994246,  0.99330715])"
      ]
     },
     "execution_count": 262,
     "metadata": {},
     "output_type": "execute_result"
    }
   ],
   "source": [
    "Y"
   ]
  },
  {
   "cell_type": "code",
   "execution_count": 263,
   "metadata": {},
   "outputs": [
    {
     "data": {
      "text/plain": [
       "[<matplotlib.lines.Line2D at 0x12565ef28>]"
      ]
     },
     "execution_count": 263,
     "metadata": {},
     "output_type": "execute_result"
    },
    {
     "data": {
      "image/png": "[encoded data removed]",
      "text/plain": [
       "<matplotlib.figure.Figure at 0x11db759e8>"
      ]
     },
     "metadata": {},
     "output_type": "display_data"
    }
   ],
   "source": [
    "plt.plot(T,Y)"
   ]
  },
  {
   "cell_type": "code",
   "execution_count": 264,
   "metadata": {},
   "outputs": [
    {
     "data": {
      "text/plain": [
       "[<matplotlib.lines.Line2D at 0x11e74b1d0>]"
      ]
     },
     "execution_count": 264,
     "metadata": {},
     "output_type": "execute_result"
    },
    {
     "data": {
      "image/png": "[encoded data removed]",
      "text/plain": [
       "<matplotlib.figure.Figure at 0x11e74b0f0>"
      ]
     },
     "metadata": {},
     "output_type": "display_data"
    }
   ],
   "source": [
    "T = np.linspace(-6,6,100)\n",
    "plt.plot(T,sigmoid(T),c='r')\n",
    "plt.plot(T,sigmoid_p(T),c='b')"
   ]
  },
  {
   "cell_type": "code",
   "execution_count": 265,
   "metadata": {},
   "outputs": [
    {
     "data": {
      "image/png": "[encoded data removed]",
      "text/plain": [
       "<matplotlib.figure.Figure at 0x12b9e3400>"
      ]
     },
     "metadata": {},
     "output_type": "display_data"
    }
   ],
   "source": [
    "#we create a scatter plot to see if our data points look okay\n",
    "\n",
    "plt.axis([0,6,0,6])\n",
    "plt.grid()\n",
    "for i in range(len(data)):\n",
    "    point = data[i]\n",
    "    color = 'red'\n",
    "    if point[2] == 0:\n",
    "        color = 'b'\n",
    "    #want to colorlabel the points as per their respective points\n",
    "    plt.scatter(point[0],point[1],c=color)"
   ]
  },
  {
   "cell_type": "code",
   "execution_count": 273,
   "metadata": {},
   "outputs": [
    {
     "data": {
      "text/plain": [
       "[<matplotlib.lines.Line2D at 0x12e9d4240>]"
      ]
     },
     "execution_count": 273,
     "metadata": {},
     "output_type": "execute_result"
    },
    {
     "data": {
      "image/png": "[encoded data removed]",
      "text/plain": [
       "<matplotlib.figure.Figure at 0x123d57e10>"
      ]
     },
     "metadata": {},
     "output_type": "display_data"
    }
   ],
   "source": [
    "#let's build the training loop\n",
    "\n",
    "learning_rate = 0.5\n",
    "costs = []\n",
    "\n",
    "w1 = np.random.randn()\n",
    "w2 = np.random.randn()\n",
    "b = np.random.randn()\n",
    "\n",
    "for i in range(70000):\n",
    "    #we need a random index for our data and we will define it as ri so that we can pull out a points within scope of our dataset\n",
    "    ri = np.random.randint(len(data))\n",
    "    point = data[ri]\n",
    "    \n",
    "    z = point[0] * w1 + point[1] * w2 + b\n",
    "    pred = sigmoid(z)\n",
    "    \n",
    "    #Define target (was the 0s and 1s we put as labels)\n",
    "    target = point[2]\n",
    "    #remember prediction - target squared\n",
    "    cost = np.square(pred - target)\n",
    "    #print(point, cost) --> looks like the red ones have a lower cost and the blues have a higher\n",
    "    \n",
    "    costs.append(cost)\n",
    "    \n",
    "    #Now we calculate the derivitive of the cost:\n",
    "    dcost_pred = 2 * (pred - target)\n",
    "    #Now we calculate the derivitive of the prediction with respect to z which is sigmoid_p\n",
    "    dpred_dz = sigmoid_p(z)\n",
    "    \n",
    "    dz_dw1 = point[0]\n",
    "    dz_dw2 = point[1]\n",
    "    dz_db = 1\n",
    "    \n",
    "    dcost_dz = dcost_pred * dpred_dz\n",
    "    \n",
    "    dcost_dw1 = dcost_dz * dz_dw1\n",
    "    dcost_dw2 = dcost_dz * dz_dw2\n",
    "    dcost_db = dcost_dz * dz_db\n",
    "    \n",
    "    w1 = w1 - learning_rate * dcost_dw1\n",
    "    w2 = w1 - learning_rate * dcost_dw2\n",
    "    b  = b - learning_rate * dcost_db\n",
    "    \n",
    "    cost_sum = 0\n",
    "    for j in range(len(data)):\n",
    "        point = data[j]\n",
    "        z = point[0] * w1 + point[1] * w2 + b\n",
    "        pred = sigmoid(z)\n",
    "        cost_sum += np.square(pred-target)\n",
    "    costs.append(cost_sum/len(data))\n",
    "    \n",
    "plt.plot(costs)"
   ]
  },
  {
   "cell_type": "code",
   "execution_count": 267,
   "metadata": {},
   "outputs": [
    {
     "name": "stdout",
     "output_type": "stream",
     "text": [
      "[3, 1.5, 1]\n",
      "pred: 0.9933531029220953\n",
      "[2, 1, 0]\n",
      "pred: 1.512342180478373e-05\n",
      "[4, 1.5, 1]\n",
      "pred: 0.9999998574860071\n",
      "[3, 1, 0]\n",
      "pred: 0.4152359964770778\n",
      "[3.5, 0.5, 1]\n",
      "pred: 0.42233043659355546\n",
      "[2, 0.5, 0]\n",
      "pred: 7.185984361538817e-08\n",
      "[5.5, 1, 1]\n",
      "pred: 0.9999999999970519\n",
      "[1, 1, 0]\n",
      "pred: 3.2210606476021847e-10\n"
     ]
    }
   ],
   "source": [
    "#seeing model predictions\n",
    "\n",
    "for i in range(len(data)):\n",
    "    point = data[i]\n",
    "    print(point)\n",
    "    z = point[0]*w1 + point[1] * w2 + b\n",
    "    pred = sigmoid(z)\n",
    "    print('pred: {}'.format(pred))\n",
    "    "
   ]
  },
  {
   "cell_type": "code",
   "execution_count": 268,
   "metadata": {},
   "outputs": [
    {
     "data": {
      "text/plain": [
       "0.99999986157995735"
      ]
     },
     "execution_count": 268,
     "metadata": {},
     "output_type": "execute_result"
    }
   ],
   "source": [
    "z = mystery_flower[0] *w1 + mystery_flower[1] *w2 +b\n",
    "pred = sigmoid(z)\n",
    "pred"
   ]
  },
  {
   "cell_type": "code",
   "execution_count": 269,
   "metadata": {
    "collapsed": true
   },
   "outputs": [],
   "source": [
    "import os"
   ]
  },
  {
   "cell_type": "code",
   "execution_count": 274,
   "metadata": {
    "collapsed": true
   },
   "outputs": [],
   "source": [
    "def which_flower(length, width):\n",
    "    z = length*w1 + width *w2 +b\n",
    "    pred = sigmoid(z)\n",
    "    if pred <0.5:\n",
    "        os.system(\"say I predict this is a blue flower\")\n",
    "    else:\n",
    "        os.system(\"say I predict this is a red flower\")"
   ]
  },
  {
   "cell_type": "code",
   "execution_count": 277,
   "metadata": {
    "collapsed": true
   },
   "outputs": [],
   "source": [
    "which_flower(6,7)"
   ]
  },
  {
   "cell_type": "code",
   "execution_count": null,
   "metadata": {
    "collapsed": true
   },
   "outputs": [],
   "source": []
  }
 ],
 "metadata": {
  "kernelspec": {
   "display_name": "Python 3",
   "language": "python",
   "name": "python3"
  },
  "language_info": {
   "codemirror_mode": {
    "name": "ipython",
    "version": 3
   },
   "file_extension": ".py",
   "mimetype": "text/x-python",
   "name": "python",
   "nbconvert_exporter": "python",
   "pygments_lexer": "ipython3",
   "version": "3.6.1"
  }
 },
 "nbformat": 4,
 "nbformat_minor": 2
}
